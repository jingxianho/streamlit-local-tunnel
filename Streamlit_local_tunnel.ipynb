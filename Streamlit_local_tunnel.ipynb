{
  "nbformat": 4,
  "nbformat_minor": 0,
  "metadata": {
    "colab": {
      "name": "Streamlit local tunnel.ipynb",
      "provenance": [],
      "include_colab_link": true
    },
    "kernelspec": {
      "name": "python3",
      "display_name": "Python 3"
    },
    "language_info": {
      "name": "python"
    }
  },
  "cells": [
    {
      "cell_type": "markdown",
      "metadata": {
        "id": "view-in-github",
        "colab_type": "text"
      },
      "source": [
        "<a href=\"https://colab.research.google.com/github/jingxianho/streamlit-local-tunnel/blob/main/Streamlit_local_tunnel.ipynb\" target=\"_parent\"><img src=\"https://colab.research.google.com/assets/colab-badge.svg\" alt=\"Open In Colab\"/></a>"
      ]
    },
    {
      "cell_type": "code",
      "execution_count": null,
      "metadata": {
        "id": "AN_6gStQHZsW"
      },
      "outputs": [],
      "source": [
        "pip install streamlit"
      ]
    },
    {
      "cell_type": "code",
      "source": [
        "pip install 'pycaret==2.3'"
      ],
      "metadata": {
        "id": "9R2gkrhoOW1s"
      },
      "execution_count": null,
      "outputs": []
    },
    {
      "cell_type": "code",
      "source": [
        "pip install numpy"
      ],
      "metadata": {
        "id": "YN0rRxBRSWud"
      },
      "execution_count": null,
      "outputs": []
    },
    {
      "cell_type": "code",
      "source": [
        "from pycaret.classification import *"
      ],
      "metadata": {
        "id": "Fkr_W5V5PswK"
      },
      "execution_count": null,
      "outputs": []
    },
    {
      "cell_type": "code",
      "source": [
        "import pandas as pd\n",
        "df = pd.read_csv('/content/drive/MyDrive/Datium/Clean_df.csv')\n",
        "car_set = list(set(df['FamilyCode']))\n",
        "default_ix = car_set.index('CAMRY')"
      ],
      "metadata": {
        "id": "nmPGJx4PPwdB"
      },
      "execution_count": null,
      "outputs": []
    },
    {
      "cell_type": "code",
      "source": [
        "default_ix"
      ],
      "metadata": {
        "colab": {
          "base_uri": "https://localhost:8080/"
        },
        "id": "gF69fY_SRg1D",
        "outputId": "da6fae9e-09b0-486f-cc9c-d77b4a74cb15"
      },
      "execution_count": null,
      "outputs": [
        {
          "output_type": "execute_result",
          "data": {
            "text/plain": [
              "17"
            ]
          },
          "metadata": {},
          "execution_count": 23
        }
      ]
    },
    {
      "cell_type": "code",
      "source": [
        "import streamlit as st"
      ],
      "metadata": {
        "id": "LX3-reOrHzTL"
      },
      "execution_count": null,
      "outputs": []
    },
    {
      "cell_type": "code",
      "source": [
        "%%writefile app.py\n",
        "import streamlit as st\n",
        "import pandas as pd\n",
        "from pycaret.classification import *\n",
        "\n",
        "df = pd.read_csv('/content/drive/MyDrive/Datium/Clean_df.csv')\n",
        "car_set = list(set(df['FamilyCode']))\n",
        "default_ix = car_set.index('CAMRY')\n",
        "\n",
        "\n",
        "######################################\n",
        "## Sidebar\n",
        "######################################\n",
        "Car_Type = st.sidebar.selectbox('Car Type', car_set, index=default_ix)\n",
        "st.sidebar.markdown(\"**Index of Demo Dataset**\")\n",
        "start_index = st.sidebar.number_input('Enter the starting index', value=0, min_value=0)\n",
        "end_index = st.sidebar.number_input('Enter the ending index', value=start_index + 1, min_value=start_index + 1)\n",
        "\n",
        "######################################\n",
        "## Main Content\n",
        "######################################\n",
        "\n",
        "st.write('# Hello World')\n",
        "st.write('## But I am sleepy!!!!')\n",
        "st.write(\"**Made By: [Ho Jing Xian](https://www.linkedin.com/in/jing-xian-ho-b853a04a//)**\")\n",
        "\n",
        "\n",
        "\n",
        "cat_saved = load_model('/content/drive/MyDrive/Datium/Experiment/Run 3/Cat_Boost')\n",
        "\n",
        "demo = df.loc[df['FamilyCode'] == Car_Type]\n",
        "demo = demo.iloc[int(start_index): int(end_index)]\n",
        "\n",
        "predictions = predict_model(cat_saved, data = demo)\n",
        "\n",
        "st.write(predictions[['FamilyCode','YearGroup','Age_Comp_Months','Sold_Amount','Label']].head(10))\n",
        "\n",
        "def convert_df(df):\n",
        "     # IMPORTANT: Cache the conversion to prevent computation on every rerun\n",
        "     return df.to_csv(index = False).encode('utf-8')\n",
        "\n",
        "csv = convert_df(predictions)\n",
        "\n",
        "\n",
        "st.download_button(\n",
        "     label=\"Download data as CSV\",\n",
        "     data=csv,\n",
        "     file_name='predictions_file.csv',\n",
        "     mime='text/csv',\n",
        " )\n"
      ],
      "metadata": {
        "colab": {
          "base_uri": "https://localhost:8080/"
        },
        "id": "Z2HtEJsuIb8s",
        "outputId": "d6cf54e0-d5d6-48ad-85b0-de5803f93ab2"
      },
      "execution_count": null,
      "outputs": [
        {
          "output_type": "stream",
          "name": "stdout",
          "text": [
            "Overwriting app.py\n"
          ]
        }
      ]
    },
    {
      "cell_type": "code",
      "source": [
        "!streamlit run app.py & npx localtunnel --port 8501"
      ],
      "metadata": {
        "colab": {
          "base_uri": "https://localhost:8080/"
        },
        "id": "_ZvTqtwYKo7s",
        "outputId": "df4b5756-6cdf-451d-ef22-f0241bd90366"
      },
      "execution_count": null,
      "outputs": [
        {
          "output_type": "stream",
          "name": "stdout",
          "text": [
            "\u001b[K\u001b[?25hnpx: installed 22 in 2.506s\n",
            "your url is: https://chatty-eel-62.loca.lt\n",
            "\u001b[0m\n",
            "\u001b[34m\u001b[1m  You can now view your Streamlit app in your browser.\u001b[0m\n",
            "\u001b[0m\n",
            "\u001b[34m  Network URL: \u001b[0m\u001b[1mhttp://172.28.0.2:8501\u001b[0m\n",
            "\u001b[34m  External URL: \u001b[0m\u001b[1mhttp://34.83.66.42:8501\u001b[0m\n",
            "\u001b[0m\n",
            "2021-12-22 14:14:48.948 Initializing load_model()\n",
            "2021-12-22 14:14:48.948 load_model(model_name=/content/drive/MyDrive/Datium/Experiment/Run 3/Cat_Boost, platform=None, authentication=None, verbose=True)\n",
            "Transformation Pipeline and Model Successfully Loaded\n",
            "2021-12-22 14:14:49.093 Initializing predict_model()\n",
            "2021-12-22 14:14:49.093 predict_model(estimator=Pipeline(steps=[('dtypes',\n",
            "                 DataTypes_Auto_infer(ml_usecase='regression',\n",
            "                                      target='Sold_Amount')),\n",
            "                ('imputer',\n",
            "                 Simple_Imputer(categorical_strategy='not_available',\n",
            "                                fill_value_categorical=None,\n",
            "                                fill_value_numerical=None,\n",
            "                                numeric_strategy='median',\n",
            "                                target_variable=None)),\n",
            "                ('new_levels1',\n",
            "                 New_Catagorical_Levels_in_TestData(replacement_strategy='least '\n",
            "                                                                         'frequent',\n",
            "                                                    t...\n",
            "                ('fix_multi',\n",
            "                 Fix_multicollinearity(correlation_with_target_preference=None,\n",
            "                                       target_variable='Sold_Amount',\n",
            "                                       threshold=0.9)),\n",
            "                ('dfs', 'passthrough'),\n",
            "                ('pca',\n",
            "                 Reduce_Dimensions_For_Supervised_Path(random_state=5831,\n",
            "                                                       target='Sold_Amount',\n",
            "                                                       variance_retained_or_number_of_components=None)),\n",
            "                ['trained_model',\n",
            "                 <catboost.core.CatBoostRegressor object at 0x7f543a60fbd0>]]), probability_threshold=None, encoded_labels=False, raw_score=False, round=4, verbose=True, ml_usecase=MLUsecase.CLASSIFICATION, display=None)\n",
            "2021-12-22 14:14:49.094 Checking exceptions\n",
            "2021-12-22 14:14:49.094 Preloading libraries\n",
            "2021-12-22 14:14:49.147 NumExpr defaulting to 2 threads.\n",
            "2021-12-22 14:15:11.362 Initializing load_model()\n",
            "2021-12-22 14:15:11.363 load_model(model_name=/content/drive/MyDrive/Datium/Experiment/Run 3/Cat_Boost, platform=None, authentication=None, verbose=True)\n",
            "Transformation Pipeline and Model Successfully Loaded\n",
            "2021-12-22 14:15:11.484 Initializing predict_model()\n",
            "2021-12-22 14:15:11.484 predict_model(estimator=Pipeline(steps=[('dtypes',\n",
            "                 DataTypes_Auto_infer(ml_usecase='regression',\n",
            "                                      target='Sold_Amount')),\n",
            "                ('imputer',\n",
            "                 Simple_Imputer(categorical_strategy='not_available',\n",
            "                                fill_value_categorical=None,\n",
            "                                fill_value_numerical=None,\n",
            "                                numeric_strategy='median',\n",
            "                                target_variable=None)),\n",
            "                ('new_levels1',\n",
            "                 New_Catagorical_Levels_in_TestData(replacement_strategy='least '\n",
            "                                                                         'frequent',\n",
            "                                                    t...\n",
            "                ('fix_multi',\n",
            "                 Fix_multicollinearity(correlation_with_target_preference=None,\n",
            "                                       target_variable='Sold_Amount',\n",
            "                                       threshold=0.9)),\n",
            "                ('dfs', 'passthrough'),\n",
            "                ('pca',\n",
            "                 Reduce_Dimensions_For_Supervised_Path(random_state=5831,\n",
            "                                                       target='Sold_Amount',\n",
            "                                                       variance_retained_or_number_of_components=None)),\n",
            "                ['trained_model',\n",
            "                 <catboost.core.CatBoostRegressor object at 0x7f542ce76bd0>]]), probability_threshold=None, encoded_labels=False, raw_score=False, round=4, verbose=True, ml_usecase=MLUsecase.CLASSIFICATION, display=None)\n",
            "2021-12-22 14:15:11.485 Checking exceptions\n",
            "2021-12-22 14:15:11.485 Preloading libraries\n"
          ]
        }
      ]
    },
    {
      "cell_type": "code",
      "source": [
        ""
      ],
      "metadata": {
        "id": "RbmBfL5OM8xZ"
      },
      "execution_count": null,
      "outputs": []
    },
    {
      "cell_type": "code",
      "source": [
        ""
      ],
      "metadata": {
        "id": "b3kNUgiQKx3N"
      },
      "execution_count": null,
      "outputs": []
    }
  ]
}